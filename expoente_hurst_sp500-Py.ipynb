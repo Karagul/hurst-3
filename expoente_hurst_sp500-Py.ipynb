{
 "cells": [
  {
   "cell_type": "code",
   "execution_count": 1,
   "metadata": {},
   "outputs": [],
   "source": [
    "# módulos do python necessários\n",
    "import pandas\n",
    "import matplotlib.pyplot as plt\n",
    "import numpy as np\n",
    "import seaborn as sns\n",
    "from sklearn.linear_model import LinearRegression"
   ]
  },
  {
   "cell_type": "markdown",
   "metadata": {},
   "source": [
    "### Carregando os dados"
   ]
  },
  {
   "cell_type": "code",
   "execution_count": 2,
   "metadata": {
    "scrolled": true
   },
   "outputs": [
    {
     "data": {
      "text/html": [
       "<div>\n",
       "<style scoped>\n",
       "    .dataframe tbody tr th:only-of-type {\n",
       "        vertical-align: middle;\n",
       "    }\n",
       "\n",
       "    .dataframe tbody tr th {\n",
       "        vertical-align: top;\n",
       "    }\n",
       "\n",
       "    .dataframe thead th {\n",
       "        text-align: right;\n",
       "    }\n",
       "</style>\n",
       "<table border=\"1\" class=\"dataframe\">\n",
       "  <thead>\n",
       "    <tr style=\"text-align: right;\">\n",
       "      <th></th>\n",
       "      <th>Date</th>\n",
       "      <th>Open</th>\n",
       "      <th>High</th>\n",
       "      <th>Low</th>\n",
       "      <th>Close</th>\n",
       "      <th>Adj Close</th>\n",
       "      <th>Volume</th>\n",
       "    </tr>\n",
       "  </thead>\n",
       "  <tbody>\n",
       "    <tr>\n",
       "      <th>0</th>\n",
       "      <td>1979-04-16</td>\n",
       "      <td>102.000000</td>\n",
       "      <td>102.019997</td>\n",
       "      <td>100.669998</td>\n",
       "      <td>101.120003</td>\n",
       "      <td>101.120003</td>\n",
       "      <td>28050000</td>\n",
       "    </tr>\n",
       "    <tr>\n",
       "      <th>1</th>\n",
       "      <td>1979-04-17</td>\n",
       "      <td>101.120003</td>\n",
       "      <td>101.940002</td>\n",
       "      <td>100.650002</td>\n",
       "      <td>101.239998</td>\n",
       "      <td>101.239998</td>\n",
       "      <td>29260000</td>\n",
       "    </tr>\n",
       "    <tr>\n",
       "      <th>2</th>\n",
       "      <td>1979-04-18</td>\n",
       "      <td>101.239998</td>\n",
       "      <td>102.230003</td>\n",
       "      <td>100.959999</td>\n",
       "      <td>101.699997</td>\n",
       "      <td>101.699997</td>\n",
       "      <td>29510000</td>\n",
       "    </tr>\n",
       "    <tr>\n",
       "      <th>3</th>\n",
       "      <td>1979-04-19</td>\n",
       "      <td>101.699997</td>\n",
       "      <td>102.400002</td>\n",
       "      <td>100.879997</td>\n",
       "      <td>101.279999</td>\n",
       "      <td>101.279999</td>\n",
       "      <td>31150000</td>\n",
       "    </tr>\n",
       "    <tr>\n",
       "      <th>4</th>\n",
       "      <td>1979-04-20</td>\n",
       "      <td>101.279999</td>\n",
       "      <td>101.809998</td>\n",
       "      <td>100.459999</td>\n",
       "      <td>101.230003</td>\n",
       "      <td>101.230003</td>\n",
       "      <td>28830000</td>\n",
       "    </tr>\n",
       "  </tbody>\n",
       "</table>\n",
       "</div>"
      ],
      "text/plain": [
       "         Date        Open        High         Low       Close   Adj Close  \\\n",
       "0  1979-04-16  102.000000  102.019997  100.669998  101.120003  101.120003   \n",
       "1  1979-04-17  101.120003  101.940002  100.650002  101.239998  101.239998   \n",
       "2  1979-04-18  101.239998  102.230003  100.959999  101.699997  101.699997   \n",
       "3  1979-04-19  101.699997  102.400002  100.879997  101.279999  101.279999   \n",
       "4  1979-04-20  101.279999  101.809998  100.459999  101.230003  101.230003   \n",
       "\n",
       "     Volume  \n",
       "0  28050000  \n",
       "1  29260000  \n",
       "2  29510000  \n",
       "3  31150000  \n",
       "4  28830000  "
      ]
     },
     "execution_count": 2,
     "metadata": {},
     "output_type": "execute_result"
    }
   ],
   "source": [
    "# importando dados do S&P 500\n",
    "sp500 = pandas.read_csv('SP500_1979.csv')\n",
    "\n",
    "# visualizando as primeiras observações do dataset\n",
    "sp500.head()"
   ]
  },
  {
   "cell_type": "code",
   "execution_count": 3,
   "metadata": {},
   "outputs": [
    {
     "data": {
      "text/plain": [
       "Date          object\n",
       "Open         float64\n",
       "High         float64\n",
       "Low          float64\n",
       "Close        float64\n",
       "Adj Close    float64\n",
       "Volume         int64\n",
       "dtype: object"
      ]
     },
     "execution_count": 3,
     "metadata": {},
     "output_type": "execute_result"
    }
   ],
   "source": [
    "# verificando os tipos dos dados das variáveis do dataset\n",
    "sp500.dtypes"
   ]
  },
  {
   "cell_type": "code",
   "execution_count": 4,
   "metadata": {
    "scrolled": false
   },
   "outputs": [
    {
     "data": {
      "text/plain": [
       "Date         datetime64[ns]\n",
       "Open                float64\n",
       "High                float64\n",
       "Low                 float64\n",
       "Close               float64\n",
       "Adj Close           float64\n",
       "Volume                int64\n",
       "dtype: object"
      ]
     },
     "execution_count": 4,
     "metadata": {},
     "output_type": "execute_result"
    }
   ],
   "source": [
    "# alterando o tipo da variável \"Date\" para o tipo data\n",
    "sp500['Date'] = pandas.to_datetime(sp500['Date'])\n",
    "sp500.dtypes"
   ]
  },
  {
   "cell_type": "code",
   "execution_count": 32,
   "metadata": {},
   "outputs": [
    {
     "data": {
      "text/html": [
       "<div>\n",
       "<style scoped>\n",
       "    .dataframe tbody tr th:only-of-type {\n",
       "        vertical-align: middle;\n",
       "    }\n",
       "\n",
       "    .dataframe tbody tr th {\n",
       "        vertical-align: top;\n",
       "    }\n",
       "\n",
       "    .dataframe thead th {\n",
       "        text-align: right;\n",
       "    }\n",
       "</style>\n",
       "<table border=\"1\" class=\"dataframe\">\n",
       "  <thead>\n",
       "    <tr style=\"text-align: right;\">\n",
       "      <th></th>\n",
       "      <th>Date</th>\n",
       "      <th>Open</th>\n",
       "      <th>High</th>\n",
       "      <th>Low</th>\n",
       "      <th>Close</th>\n",
       "      <th>Adj Close</th>\n",
       "      <th>Volume</th>\n",
       "      <th>Return</th>\n",
       "    </tr>\n",
       "  </thead>\n",
       "  <tbody>\n",
       "    <tr>\n",
       "      <th>0</th>\n",
       "      <td>1979-04-16</td>\n",
       "      <td>102.000000</td>\n",
       "      <td>102.019997</td>\n",
       "      <td>100.669998</td>\n",
       "      <td>101.120003</td>\n",
       "      <td>101.120003</td>\n",
       "      <td>28050000</td>\n",
       "      <td>-0.862742</td>\n",
       "    </tr>\n",
       "    <tr>\n",
       "      <th>1</th>\n",
       "      <td>1979-04-17</td>\n",
       "      <td>101.120003</td>\n",
       "      <td>101.940002</td>\n",
       "      <td>100.650002</td>\n",
       "      <td>101.239998</td>\n",
       "      <td>101.239998</td>\n",
       "      <td>29260000</td>\n",
       "      <td>0.118666</td>\n",
       "    </tr>\n",
       "    <tr>\n",
       "      <th>2</th>\n",
       "      <td>1979-04-18</td>\n",
       "      <td>101.239998</td>\n",
       "      <td>102.230003</td>\n",
       "      <td>100.959999</td>\n",
       "      <td>101.699997</td>\n",
       "      <td>101.699997</td>\n",
       "      <td>29510000</td>\n",
       "      <td>0.454365</td>\n",
       "    </tr>\n",
       "    <tr>\n",
       "      <th>3</th>\n",
       "      <td>1979-04-19</td>\n",
       "      <td>101.699997</td>\n",
       "      <td>102.400002</td>\n",
       "      <td>100.879997</td>\n",
       "      <td>101.279999</td>\n",
       "      <td>101.279999</td>\n",
       "      <td>31150000</td>\n",
       "      <td>-0.412977</td>\n",
       "    </tr>\n",
       "    <tr>\n",
       "      <th>4</th>\n",
       "      <td>1979-04-20</td>\n",
       "      <td>101.279999</td>\n",
       "      <td>101.809998</td>\n",
       "      <td>100.459999</td>\n",
       "      <td>101.230003</td>\n",
       "      <td>101.230003</td>\n",
       "      <td>28830000</td>\n",
       "      <td>-0.049364</td>\n",
       "    </tr>\n",
       "  </tbody>\n",
       "</table>\n",
       "</div>"
      ],
      "text/plain": [
       "        Date        Open        High         Low       Close   Adj Close  \\\n",
       "0 1979-04-16  102.000000  102.019997  100.669998  101.120003  101.120003   \n",
       "1 1979-04-17  101.120003  101.940002  100.650002  101.239998  101.239998   \n",
       "2 1979-04-18  101.239998  102.230003  100.959999  101.699997  101.699997   \n",
       "3 1979-04-19  101.699997  102.400002  100.879997  101.279999  101.279999   \n",
       "4 1979-04-20  101.279999  101.809998  100.459999  101.230003  101.230003   \n",
       "\n",
       "     Volume    Return  \n",
       "0  28050000 -0.862742  \n",
       "1  29260000  0.118666  \n",
       "2  29510000  0.454365  \n",
       "3  31150000 -0.412977  \n",
       "4  28830000 -0.049364  "
      ]
     },
     "execution_count": 32,
     "metadata": {},
     "output_type": "execute_result"
    }
   ],
   "source": [
    "# criando a variável de retorno\n",
    "sp500['Return'] = ((sp500['Close']-sp500['Open'])/sp500['Open'])*100\n",
    "sp500.head()"
   ]
  },
  {
   "cell_type": "markdown",
   "metadata": {},
   "source": [
    "### Visualizando a série temporal"
   ]
  },
  {
   "cell_type": "code",
   "execution_count": 33,
   "metadata": {},
   "outputs": [
    {
     "data": {
      "image/png": "[encoded data removed]",
      "text/plain": [
       "<Figure size 432x288 with 1 Axes>"
      ]
     },
     "metadata": {
      "needs_background": "light"
     },
     "output_type": "display_data"
    }
   ],
   "source": [
    "# selecionando as variáveis\n",
    "sp500_subset = sp500[['Date', 'Return']]\n",
    "\n",
    "# definindo a coluna de data como o index do dataset sp500_subset\n",
    "sp500_subset = sp500_subset.set_index('Date')\n",
    "\n",
    "# gerando visualização da s[erie temporal de retorno\n",
    "plt.plot(sp500_subset)\n",
    "plt.ylabel('Retorno')\n",
    "plt.xlabel('Data')\n",
    "plt.title('S&P500 (1979 a 2019)')\n",
    "plt.show()"
   ]
  },
  {
   "cell_type": "markdown",
   "metadata": {},
   "source": [
    "### Cálculo do expoente de hurst"
   ]
  },
  {
   "cell_type": "code",
   "execution_count": 37,
   "metadata": {},
   "outputs": [],
   "source": [
    "# explodindo o dataset em 80 intervalos, ou \"janelas\"\n",
    "N = []\n",
    "for i in range(1,81):\n",
    "    N.append(np.array_split(sp500_subset, i))"
   ]
  },
  {
   "cell_type": "code",
   "execution_count": 38,
   "metadata": {},
   "outputs": [],
   "source": [
    "# calculando a média de retorno para cada intervalo\n",
    "mean_N = []\n",
    "for i in range(len(N)):\n",
    "    m = []\n",
    "    for j in range(len(N[i])):\n",
    "        m.append(N[i][j].mean())\n",
    "    mean_N.append(m)"
   ]
  },
  {
   "cell_type": "code",
   "execution_count": 40,
   "metadata": {},
   "outputs": [],
   "source": [
    "# criando série de desvios para cada janela\n",
    "desv_N = []\n",
    "for i in range(len(N)):\n",
    "    d = []\n",
    "    for j in range(len(N[i])):\n",
    "        d.append(N[i][j]-mean_N[i][j])\n",
    "    desv_N.append(d)"
   ]
  },
  {
   "cell_type": "code",
   "execution_count": 41,
   "metadata": {},
   "outputs": [],
   "source": [
    "# criando série do desvios da média do retorno acumulado por janela\n",
    "cumsum = []\n",
    "for i in range(len(desv_N)):\n",
    "    c = []\n",
    "    for j in range(len(desv_N[i])):\n",
    "        c.append(desv_N[i][j].cumsum(axis=0))\n",
    "    cumsum.append(c)"
   ]
  },
  {
   "cell_type": "code",
   "execution_count": 43,
   "metadata": {},
   "outputs": [],
   "source": [
    "# cálculo da maior diferença na série dos desvios acumulado do retorno\n",
    "diff_R = []\n",
    "for i in range(len(cumsum)):\n",
    "    diff = []\n",
    "    for j in range(len(cumsum[i])):\n",
    "        diff.append(cumsum[i][j].max()-cumsum[i][j].min())\n",
    "    diff_R.append(diff)"
   ]
  },
  {
   "cell_type": "code",
   "execution_count": 44,
   "metadata": {},
   "outputs": [],
   "source": [
    "# cálculo do desvio padrão para cada janela\n",
    "sd_R = []\n",
    "for i in range(len(cumsum)):\n",
    "    sd = []\n",
    "    for j in range(len(cumsum[i])):\n",
    "        sd.append(cumsum[i][j].std())\n",
    "    sd_R.append(sd)"
   ]
  },
  {
   "cell_type": "code",
   "execution_count": 61,
   "metadata": {},
   "outputs": [],
   "source": [
    "# cálculo do intervalo redimensionado para cada janela da série histórica\n",
    "RS_N = []\n",
    "for i in range(len(diff_R)):\n",
    "    rs = []\n",
    "    for j in range(len(diff_R[i])):\n",
    "        rs.append(diff_R[i][j]/sd_R[i][j])\n",
    "    RS_N.append(rs)\n",
    "    \n",
    "# cálculo da média dos valores das janelas escalonados\n",
    "RS = []\n",
    "for i in range(len(RS_N)):\n",
    "    RS.append(sum(RS_N[i])/len(RS_N[i]))"
   ]
  },
  {
   "cell_type": "code",
   "execution_count": 63,
   "metadata": {},
   "outputs": [],
   "source": [
    "# tamanho das janelas\n",
    "n_size = []\n",
    "for i in range(len(N)):\n",
    "    n = []\n",
    "    for j in range(len(N[i])):\n",
    "        n.append(N[i][j].count())\n",
    "    n_size.append(n)\n",
    "\n",
    "nmean_size = []\n",
    "for i in range(len(n_size)):\n",
    "    nmean_size.append(sum(n_size[i])/len(n_size[i]))"
   ]
  },
  {
   "cell_type": "code",
   "execution_count": 66,
   "metadata": {},
   "outputs": [
    {
     "data": {
      "text/plain": [
       "<function matplotlib.pyplot.show(*args, **kw)>"
      ]
     },
     "execution_count": 66,
     "metadata": {},
     "output_type": "execute_result"
    },
    {
     "data": {
      "image/png": "[encoded data removed]",
      "text/plain": [
       "<Figure size 432x288 with 1 Axes>"
      ]
     },
     "metadata": {
      "needs_background": "light"
     },
     "output_type": "display_data"
    }
   ],
   "source": [
    "# visualizando R/S x N\n",
    "plt.scatter(x=nmean_size, y=RS)\n",
    "plt.ylabel('R/S')\n",
    "plt.xlabel('N')\n",
    "plt.show"
   ]
  },
  {
   "cell_type": "code",
   "execution_count": 67,
   "metadata": {},
   "outputs": [],
   "source": [
    "# calculando os logarítmicos\n",
    "RSlog = np.log(RS)\n",
    "Nlog = np.log(nmean_size)"
   ]
  },
  {
   "cell_type": "code",
   "execution_count": 82,
   "metadata": {},
   "outputs": [
    {
     "data": {
      "text/html": [
       "<div>\n",
       "<style scoped>\n",
       "    .dataframe tbody tr th:only-of-type {\n",
       "        vertical-align: middle;\n",
       "    }\n",
       "\n",
       "    .dataframe tbody tr th {\n",
       "        vertical-align: top;\n",
       "    }\n",
       "\n",
       "    .dataframe thead th {\n",
       "        text-align: right;\n",
       "    }\n",
       "</style>\n",
       "<table border=\"1\" class=\"dataframe\">\n",
       "  <thead>\n",
       "    <tr style=\"text-align: right;\">\n",
       "      <th></th>\n",
       "      <th>log(R/S)</th>\n",
       "      <th>id</th>\n",
       "      <th>log(N)</th>\n",
       "    </tr>\n",
       "  </thead>\n",
       "  <tbody>\n",
       "    <tr>\n",
       "      <th>0</th>\n",
       "      <td>1.699851</td>\n",
       "      <td>0</td>\n",
       "      <td>9.219003</td>\n",
       "    </tr>\n",
       "    <tr>\n",
       "      <th>1</th>\n",
       "      <td>1.613363</td>\n",
       "      <td>1</td>\n",
       "      <td>8.525856</td>\n",
       "    </tr>\n",
       "    <tr>\n",
       "      <th>2</th>\n",
       "      <td>1.685852</td>\n",
       "      <td>2</td>\n",
       "      <td>8.120390</td>\n",
       "    </tr>\n",
       "    <tr>\n",
       "      <th>3</th>\n",
       "      <td>1.647242</td>\n",
       "      <td>3</td>\n",
       "      <td>7.832708</td>\n",
       "    </tr>\n",
       "    <tr>\n",
       "      <th>4</th>\n",
       "      <td>1.565824</td>\n",
       "      <td>4</td>\n",
       "      <td>7.609565</td>\n",
       "    </tr>\n",
       "  </tbody>\n",
       "</table>\n",
       "</div>"
      ],
      "text/plain": [
       "   log(R/S)  id    log(N)\n",
       "0  1.699851   0  9.219003\n",
       "1  1.613363   1  8.525856\n",
       "2  1.685852   2  8.120390\n",
       "3  1.647242   3  7.832708\n",
       "4  1.565824   4  7.609565"
      ]
     },
     "execution_count": 82,
     "metadata": {},
     "output_type": "execute_result"
    }
   ],
   "source": [
    "# criando data frame para gerar visualização\n",
    "RS_df = pandas.DataFrame(RSlog)\n",
    "RS_df.rename(columns={0:'log(R/S)'}, inplace = True) # alterando o nome da coluna\n",
    "RS_df['id'] = RS_df.index\n",
    "\n",
    "N_df = pandas.DataFrame(Nlog)\n",
    "N_df.rename(columns={0:'log(N)'}, inplace = True) # alterando o nome da coluna\n",
    "N_df['id'] = RS_df.index\n",
    "\n",
    "df = pandas.merge(RS_df, N_df, on='id')\n",
    "df.head()"
   ]
  },
  {
   "cell_type": "code",
   "execution_count": 83,
   "metadata": {},
   "outputs": [
    {
     "name": "stderr",
     "output_type": "stream",
     "text": [
      "C:\\Users\\Ana\\Anaconda3\\lib\\site-packages\\scipy\\stats\\stats.py:1713: FutureWarning: Using a non-tuple sequence for multidimensional indexing is deprecated; use `arr[tuple(seq)]` instead of `arr[seq]`. In the future this will be interpreted as an array index, `arr[np.array(seq)]`, which will result either in an error or a different result.\n",
      "  return np.add.reduce(sorted[indexer] * weights, axis=axis) / sumval\n"
     ]
    },
    {
     "data": {
      "text/plain": [
       "<matplotlib.axes._subplots.AxesSubplot at 0x21f3e09c438>"
      ]
     },
     "execution_count": 83,
     "metadata": {},
     "output_type": "execute_result"
    },
    {
     "data": {
      "image/png": "[encoded data removed]",
      "text/plain": [
       "<Figure size 432x288 with 1 Axes>"
      ]
     },
     "metadata": {
      "needs_background": "light"
     },
     "output_type": "display_data"
    }
   ],
   "source": [
    "# visualizando a regressão\n",
    "sns.regplot(x='log(N)', y='log(R/S)', data=df)"
   ]
  },
  {
   "cell_type": "code",
   "execution_count": 87,
   "metadata": {},
   "outputs": [
    {
     "name": "stdout",
     "output_type": "stream",
     "text": [
      "0.8714877235043706\n",
      "[0.05406206]\n"
     ]
    },
    {
     "name": "stderr",
     "output_type": "stream",
     "text": [
      "C:\\Users\\Ana\\Anaconda3\\lib\\site-packages\\ipykernel_launcher.py:5: FutureWarning: Method .as_matrix will be removed in a future version. Use .values instead.\n",
      "  \"\"\"\n",
      "C:\\Users\\Ana\\Anaconda3\\lib\\site-packages\\ipykernel_launcher.py:7: FutureWarning: Method .as_matrix will be removed in a future version. Use .values instead.\n",
      "  import sys\n"
     ]
    }
   ],
   "source": [
    "# criando o regressor\n",
    "reg = LinearRegression()\n",
    "\n",
    "# ajustando o modelo\n",
    "X = df['log(N)'].as_matrix()\n",
    "X = X.reshape(-1,1)\n",
    "y = df['log(R/S)'].as_matrix()\n",
    "reg.fit(X,y)\n",
    "print(reg.score(X,y))\n",
    "print(reg.coef_)"
   ]
  }
 ],
 "metadata": {
  "kernelspec": {
   "display_name": "Python 3",
   "language": "python",
   "name": "python3"
  },
  "language_info": {
   "codemirror_mode": {
    "name": "ipython",
    "version": 3
   },
   "file_extension": ".py",
   "mimetype": "text/x-python",
   "name": "python",
   "nbconvert_exporter": "python",
   "pygments_lexer": "ipython3",
   "version": "3.7.1"
  }
 },
 "nbformat": 4,
 "nbformat_minor": 2
}
